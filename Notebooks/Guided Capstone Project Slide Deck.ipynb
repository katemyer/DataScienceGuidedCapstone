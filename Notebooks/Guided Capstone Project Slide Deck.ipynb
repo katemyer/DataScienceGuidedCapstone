{
 "cells": [
  {
   "cell_type": "markdown",
   "id": "68b4cf21-45ca-4c39-96a4-a1a4373cc958",
   "metadata": {},
   "source": [
    "**Link to Executive Committee Slide Deck Presentation**\n",
    "https://docs.google.com/presentation/d/1cFrqm3DxzXuFvU7bb2ZUj3SmXnlqyWZgg4LLiXnRAeA/edit?usp=sharing"
   ]
  }
 ],
 "metadata": {
  "kernelspec": {
   "display_name": "Python 3 (ipykernel)",
   "language": "python",
   "name": "python3"
  },
  "language_info": {
   "codemirror_mode": {
    "name": "ipython",
    "version": 3
   },
   "file_extension": ".py",
   "mimetype": "text/x-python",
   "name": "python",
   "nbconvert_exporter": "python",
   "pygments_lexer": "ipython3",
   "version": "3.12.4"
  }
 },
 "nbformat": 4,
 "nbformat_minor": 5
}
